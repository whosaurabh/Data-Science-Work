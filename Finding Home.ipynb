{
 "cells": [
  {
   "cell_type": "markdown",
   "metadata": {},
   "source": [
    "## PROJECT NAME- \"FINDING HOME\""
   ]
  },
  {
   "cell_type": "markdown",
   "metadata": {},
   "source": [
    "## Introduction to Project\n",
    "The project is all about Relocating to new place as I am getting a Job change, keeping in minds the great amenities and other types of venues that exist in the neighborhood currently (i.e. food joints, pharmacies,parks, grad schools ) should be easily available at new location too.\n",
    "\n",
    "The Data Analytics approach is required to achieve this task which would be possible after refining the dataset provided by Location Data Provider.\n",
    "\n",
    "The New Home & its location is very important as it could directly implicate my \"Work Life Balance\""
   ]
  },
  {
   "cell_type": "code",
   "execution_count": 9,
   "metadata": {},
   "outputs": [
    {
     "name": "stdout",
     "output_type": "stream",
     "text": [
      "Hello Capstone Project Course!\n"
     ]
    }
   ],
   "source": [
    "# import pandas library\n",
    "import pandas as pd\n",
    "# import numpy library\n",
    "import numpy as np\n",
    "# printing the output as - Hello Capstone Project Course!\n",
    "print(\"Hello Capstone Project Course!\")"
   ]
  }
 ],
 "metadata": {
  "kernelspec": {
   "display_name": "Python 3",
   "language": "python",
   "name": "python3"
  },
  "language_info": {
   "codemirror_mode": {
    "name": "ipython",
    "version": 3
   },
   "file_extension": ".py",
   "mimetype": "text/x-python",
   "name": "python",
   "nbconvert_exporter": "python",
   "pygments_lexer": "ipython3",
   "version": "3.6.6"
  }
 },
 "nbformat": 4,
 "nbformat_minor": 2
}
